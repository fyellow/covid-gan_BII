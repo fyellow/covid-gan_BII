{
 "cells": [
  {
   "cell_type": "code",
   "execution_count": 1,
   "id": "42989e75-22e7-4813-956b-27077e129e59",
   "metadata": {},
   "outputs": [],
   "source": [
    "import pandas as pd\n",
    "import numpy as np\n",
    "from tqdm import tqdm\n",
    "import re\n",
    "tqdm.pandas()\n",
    "\n",
    "%matplotlib inline\n",
    "import matplotlib.pyplot as plt\n"
   ]
  },
  {
   "cell_type": "code",
   "execution_count": 13,
   "outputs": [
    {
     "data": {
      "text/plain": "               drop                               strainname  \\\n0   EPI_ISL_4937520     hCoV-19/Germany/BY-RKI-I-271721/2021   \n1   EPI_ISL_2026506          hCoV-19/Denmark/DCGC-90247/2021   \n2   EPI_ISL_4937523     hCoV-19/Germany/BY-RKI-I-271724/2021   \n3  EPI_ISL_10305507       hCoV-19/Australia/QLD0x00C719/2022   \n4   EPI_ISL_8049553  hCoV-19/Netherlands/GE-RUMC-000279/2021   \n\n  currCollectiondate                                        combineMuts  \\\n0         2021-09-16  NSP2_M609I,NSP3_T936N,NSP3_A488S,NSP3_P1469S,N...   \n1         2021-04-26  NSP3_T183I,NSP3_E177D,NSP3_A890D,NSP3_I1412T,N...   \n2         2021-09-10  NSP2_A318V,NSP2_K81N,NSP3_T64I,NSP3_A488S,NSP3...   \n3         2022-02-09  NSP3_L1266I,NSP3_S1265del,NSP3_K38R,NSP3_A1892...   \n4         2021-12-03  NSP3_A488S,NSP3_P1469S,NSP3_P1228L,NSP4_V167L,...   \n\n  currCovClade currLineage  \n0           GK        AY.5  \n1          GRY     B.1.1.7  \n2           GK      AY.122  \n3          GRA     BA.1.17  \n4           GK   B.1.617.2  ",
      "text/html": "<div>\n<style scoped>\n    .dataframe tbody tr th:only-of-type {\n        vertical-align: middle;\n    }\n\n    .dataframe tbody tr th {\n        vertical-align: top;\n    }\n\n    .dataframe thead th {\n        text-align: right;\n    }\n</style>\n<table border=\"1\" class=\"dataframe\">\n  <thead>\n    <tr style=\"text-align: right;\">\n      <th></th>\n      <th>drop</th>\n      <th>strainname</th>\n      <th>currCollectiondate</th>\n      <th>combineMuts</th>\n      <th>currCovClade</th>\n      <th>currLineage</th>\n    </tr>\n  </thead>\n  <tbody>\n    <tr>\n      <th>0</th>\n      <td>EPI_ISL_4937520</td>\n      <td>hCoV-19/Germany/BY-RKI-I-271721/2021</td>\n      <td>2021-09-16</td>\n      <td>NSP2_M609I,NSP3_T936N,NSP3_A488S,NSP3_P1469S,N...</td>\n      <td>GK</td>\n      <td>AY.5</td>\n    </tr>\n    <tr>\n      <th>1</th>\n      <td>EPI_ISL_2026506</td>\n      <td>hCoV-19/Denmark/DCGC-90247/2021</td>\n      <td>2021-04-26</td>\n      <td>NSP3_T183I,NSP3_E177D,NSP3_A890D,NSP3_I1412T,N...</td>\n      <td>GRY</td>\n      <td>B.1.1.7</td>\n    </tr>\n    <tr>\n      <th>2</th>\n      <td>EPI_ISL_4937523</td>\n      <td>hCoV-19/Germany/BY-RKI-I-271724/2021</td>\n      <td>2021-09-10</td>\n      <td>NSP2_A318V,NSP2_K81N,NSP3_T64I,NSP3_A488S,NSP3...</td>\n      <td>GK</td>\n      <td>AY.122</td>\n    </tr>\n    <tr>\n      <th>3</th>\n      <td>EPI_ISL_10305507</td>\n      <td>hCoV-19/Australia/QLD0x00C719/2022</td>\n      <td>2022-02-09</td>\n      <td>NSP3_L1266I,NSP3_S1265del,NSP3_K38R,NSP3_A1892...</td>\n      <td>GRA</td>\n      <td>BA.1.17</td>\n    </tr>\n    <tr>\n      <th>4</th>\n      <td>EPI_ISL_8049553</td>\n      <td>hCoV-19/Netherlands/GE-RUMC-000279/2021</td>\n      <td>2021-12-03</td>\n      <td>NSP3_A488S,NSP3_P1469S,NSP3_P1228L,NSP4_V167L,...</td>\n      <td>GK</td>\n      <td>B.1.617.2</td>\n    </tr>\n  </tbody>\n</table>\n</div>"
     },
     "execution_count": 13,
     "metadata": {},
     "output_type": "execute_result"
    }
   ],
   "source": [
    "data = pd.read_csv('all_variants.csv') # read the .csv files with all covid submissions\n",
    "data.head()"
   ],
   "metadata": {
    "collapsed": false
   }
  },
  {
   "cell_type": "code",
   "execution_count": 15,
   "outputs": [
    {
     "data": {
      "text/plain": "Index(['drop', 'strainname', 'currCollectiondate', 'combineMuts',\n       'currCovClade', 'currLineage'],\n      dtype='object')"
     },
     "execution_count": 15,
     "metadata": {},
     "output_type": "execute_result"
    }
   ],
   "source": [
    "data.columns"
   ],
   "metadata": {
    "collapsed": false
   }
  },
  {
   "cell_type": "code",
   "execution_count": 28,
   "id": "a9eec3af-f89e-435e-9041-f442d0aaf41a",
   "metadata": {},
   "outputs": [],
   "source": [
    "def only_substs(s):\n",
    "    \"\"\"\n",
    "    Leaves only substitutions out of all the mutations of the covid variant.\n",
    "    Excludes deletions and insertions. Uses regular expressions.\n",
    "    Please note that mutations become sorted in a string.\n",
    "    :param s: string representing mutations in the original file (separeted by a comma)\n",
    "    :return: the same string without the deletions and insertions\n",
    "    \"\"\"\n",
    "    return ','.join(sorted(re.findall(r'\\w+\\d?_[ACDEFGHIKLMNPQRSTVWY]\\d+[ACDEFGHIKLMNPQRSTVWY]',s)))\n",
    "\n",
    "def extract_substs(df):\n",
    "    \"\"\"\n",
    "    Extracts substitutions out of dataset as a part of pipeline.\n",
    "    :param df: dataframe with covid submissions\n",
    "    :return: same dataframe only with substitutions in .combineMuts column\n",
    "    \"\"\"\n",
    "    df['combineMuts'] = df['combineMuts'].progress_apply(only_substs)\n",
    "    return df\n",
    "\n",
    "def assign_frequencies_le(df):\n",
    "    \"\"\"\n",
    "    Gets frequencies of each UNIQUE submission .\n",
    "    Dataframe MUST possess column .var_le - labels encodings for unique variants (submissions).\n",
    "    :param df: dataframe with covid submissions\n",
    "    :return: same dataframe with frequencies for unique submissions as a new column\n",
    "    \"\"\"\n",
    "    unique, counts = np.unique(df.var_le, return_counts=True)\n",
    "    freq_dict = {unique[i]:counts[i] for i in range(len(unique))}\n",
    "    df['frequency_le'] = df.var_le.progress_apply(lambda x: freq_dict[x])\n",
    "    return df\n",
    "\n",
    "def assign_frequencies_clade(df):\n",
    "    \"\"\"\n",
    "    Gets frequencies of each unique clade .\n",
    "    :param df: dataframe with covid submissions\n",
    "    :return: same dataframe with frequencies for unique clades as a new column\n",
    "    \"\"\"\n",
    "    unique, counts = np.unique(df.currCovClade, return_counts=True)\n",
    "    freq_dict = {unique[i]:counts[i] for i in range(len(unique))}\n",
    "    df['frequency_clade'] = df.currCovClade.progress_apply(lambda x: freq_dict[x])\n",
    "    return df\n",
    "\n",
    "def assign_frequencies_lineage(df):\n",
    "    \"\"\"\n",
    "    Gets frequencies of each unique lineage .\n",
    "    :param df: dataframe with covid submissions\n",
    "    :return: same dataframe with frequencies for unique lineages as a new column\n",
    "    \"\"\"\n",
    "    unique, counts = np.unique(df.currLineage, return_counts=True)\n",
    "    freq_dict = {unique[i]:counts[i] for i in range(len(unique))}\n",
    "    df['frequency_lineage'] = df.currLineage.progress_apply(lambda x: freq_dict[x])\n",
    "    return df\n",
    "\n",
    "def drop_unassigned_lineages(df):\n",
    "    \"\"\"\n",
    "    Drops submissions with unassigned lineages.\n",
    "    :param df: dataframe with covid submissions\n",
    "    :return: same dataframe without submissions with unassigned lineages\n",
    "    \"\"\"\n",
    "    return df[df.currLineage != 'Unassigned']\n"
   ]
  },
  {
   "cell_type": "code",
   "execution_count": 30,
   "outputs": [
    {
     "name": "stderr",
     "output_type": "stream",
     "text": [
      "100%|██████████| 11651706/11651706 [00:14<00:00, 782556.08it/s] \n",
      "100%|██████████| 11651706/11651706 [00:14<00:00, 777479.34it/s] \n",
      "100%|██████████| 11651706/11651706 [13:33<00:00, 14318.47it/s]\n",
      "100%|██████████| 11651706/11651706 [00:20<00:00, 554944.17it/s]\n"
     ]
    },
    {
     "data": {
      "text/plain": "                      drop                                        combineMuts  \\\n10593101    EPI_ISL_402123                             NSP3_N1890S,NSP4_F145I   \n10592503    EPI_ISL_406798                             NSP3_L1417I,NSP6_N264K   \n5968836     EPI_ISL_402130                             NSP3_D1761A,NSP4_T327I   \n5968855     EPI_ISL_403930                                        NSP3_I1426T   \n11815418    EPI_ISL_402132                                         Spike_F32I   \n...                    ...                                                ...   \n11790435  EPI_ISL_13716820  E_T9I,M_A63T,M_D3N,M_Q19E,NS3_T223I,NSP12_P323...   \n11790434  EPI_ISL_13716823  E_T9I,M_A63T,M_D3N,M_Q19E,NS3_T223I,NSP12_P323...   \n11790433  EPI_ISL_13716822  E_T9I,M_A63T,M_D3N,M_Q19E,NS3_T223I,NS3_V112F,...   \n11790438  EPI_ISL_13716817  E_T9I,M_A63T,M_D3N,M_Q19E,NS3_T223I,NS8_V5I,NS...   \n11790439  EPI_ISL_13716818  E_T9I,M_A63T,M_D3N,M_Q19E,NS3_T223I,NSP12_P323...   \n\n         currCollectiondate currCovClade currLineage  frequency_clade  \\\n10593101         2019-12-24            L           B             5182   \n10592503         2019-12-26            L           B             5182   \n5968836          2019-12-30            L           B             5182   \n5968855          2019-12-30            L           B             5182   \n11815418         2019-12-30            L           B             5182   \n...                     ...          ...         ...              ...   \n11790435         2022-07-08          GRA      BA.5.1          4517344   \n11790434         2022-07-08          GRA      BA.5.1          4517344   \n11790433         2022-07-08          GRA      BA.5.1          4517344   \n11790438         2022-07-08          GRA    BA.5.2.1          4517344   \n11790439         2022-07-08          GRA      BA.5.1          4517344   \n\n          frequency_lineage  n_muts  n_substs   var_le  frequency_le  \n10593101               9349       1         1        0             1  \n10592503               9349       1         1        1             1  \n5968836                9349       2         1        2             1  \n5968855                9349       1         0        3             1  \n11815418               9349       0         0        4             1  \n...                     ...     ...       ...      ...           ...  \n11790435              32367      57        45  4706071            84  \n11790434              32367      57        45  4706071            84  \n11790433              32367      59        47  4984811             1  \n11790438              20593      59        47  4984812             1  \n11790439              32367      57        45  4706071            84  \n\n[11651706 rows x 11 columns]",
      "text/html": "<div>\n<style scoped>\n    .dataframe tbody tr th:only-of-type {\n        vertical-align: middle;\n    }\n\n    .dataframe tbody tr th {\n        vertical-align: top;\n    }\n\n    .dataframe thead th {\n        text-align: right;\n    }\n</style>\n<table border=\"1\" class=\"dataframe\">\n  <thead>\n    <tr style=\"text-align: right;\">\n      <th></th>\n      <th>drop</th>\n      <th>combineMuts</th>\n      <th>currCollectiondate</th>\n      <th>currCovClade</th>\n      <th>currLineage</th>\n      <th>frequency_clade</th>\n      <th>frequency_lineage</th>\n      <th>n_muts</th>\n      <th>n_substs</th>\n      <th>var_le</th>\n      <th>frequency_le</th>\n    </tr>\n  </thead>\n  <tbody>\n    <tr>\n      <th>10593101</th>\n      <td>EPI_ISL_402123</td>\n      <td>NSP3_N1890S,NSP4_F145I</td>\n      <td>2019-12-24</td>\n      <td>L</td>\n      <td>B</td>\n      <td>5182</td>\n      <td>9349</td>\n      <td>1</td>\n      <td>1</td>\n      <td>0</td>\n      <td>1</td>\n    </tr>\n    <tr>\n      <th>10592503</th>\n      <td>EPI_ISL_406798</td>\n      <td>NSP3_L1417I,NSP6_N264K</td>\n      <td>2019-12-26</td>\n      <td>L</td>\n      <td>B</td>\n      <td>5182</td>\n      <td>9349</td>\n      <td>1</td>\n      <td>1</td>\n      <td>1</td>\n      <td>1</td>\n    </tr>\n    <tr>\n      <th>5968836</th>\n      <td>EPI_ISL_402130</td>\n      <td>NSP3_D1761A,NSP4_T327I</td>\n      <td>2019-12-30</td>\n      <td>L</td>\n      <td>B</td>\n      <td>5182</td>\n      <td>9349</td>\n      <td>2</td>\n      <td>1</td>\n      <td>2</td>\n      <td>1</td>\n    </tr>\n    <tr>\n      <th>5968855</th>\n      <td>EPI_ISL_403930</td>\n      <td>NSP3_I1426T</td>\n      <td>2019-12-30</td>\n      <td>L</td>\n      <td>B</td>\n      <td>5182</td>\n      <td>9349</td>\n      <td>1</td>\n      <td>0</td>\n      <td>3</td>\n      <td>1</td>\n    </tr>\n    <tr>\n      <th>11815418</th>\n      <td>EPI_ISL_402132</td>\n      <td>Spike_F32I</td>\n      <td>2019-12-30</td>\n      <td>L</td>\n      <td>B</td>\n      <td>5182</td>\n      <td>9349</td>\n      <td>0</td>\n      <td>0</td>\n      <td>4</td>\n      <td>1</td>\n    </tr>\n    <tr>\n      <th>...</th>\n      <td>...</td>\n      <td>...</td>\n      <td>...</td>\n      <td>...</td>\n      <td>...</td>\n      <td>...</td>\n      <td>...</td>\n      <td>...</td>\n      <td>...</td>\n      <td>...</td>\n      <td>...</td>\n    </tr>\n    <tr>\n      <th>11790435</th>\n      <td>EPI_ISL_13716820</td>\n      <td>E_T9I,M_A63T,M_D3N,M_Q19E,NS3_T223I,NSP12_P323...</td>\n      <td>2022-07-08</td>\n      <td>GRA</td>\n      <td>BA.5.1</td>\n      <td>4517344</td>\n      <td>32367</td>\n      <td>57</td>\n      <td>45</td>\n      <td>4706071</td>\n      <td>84</td>\n    </tr>\n    <tr>\n      <th>11790434</th>\n      <td>EPI_ISL_13716823</td>\n      <td>E_T9I,M_A63T,M_D3N,M_Q19E,NS3_T223I,NSP12_P323...</td>\n      <td>2022-07-08</td>\n      <td>GRA</td>\n      <td>BA.5.1</td>\n      <td>4517344</td>\n      <td>32367</td>\n      <td>57</td>\n      <td>45</td>\n      <td>4706071</td>\n      <td>84</td>\n    </tr>\n    <tr>\n      <th>11790433</th>\n      <td>EPI_ISL_13716822</td>\n      <td>E_T9I,M_A63T,M_D3N,M_Q19E,NS3_T223I,NS3_V112F,...</td>\n      <td>2022-07-08</td>\n      <td>GRA</td>\n      <td>BA.5.1</td>\n      <td>4517344</td>\n      <td>32367</td>\n      <td>59</td>\n      <td>47</td>\n      <td>4984811</td>\n      <td>1</td>\n    </tr>\n    <tr>\n      <th>11790438</th>\n      <td>EPI_ISL_13716817</td>\n      <td>E_T9I,M_A63T,M_D3N,M_Q19E,NS3_T223I,NS8_V5I,NS...</td>\n      <td>2022-07-08</td>\n      <td>GRA</td>\n      <td>BA.5.2.1</td>\n      <td>4517344</td>\n      <td>20593</td>\n      <td>59</td>\n      <td>47</td>\n      <td>4984812</td>\n      <td>1</td>\n    </tr>\n    <tr>\n      <th>11790439</th>\n      <td>EPI_ISL_13716818</td>\n      <td>E_T9I,M_A63T,M_D3N,M_Q19E,NS3_T223I,NSP12_P323...</td>\n      <td>2022-07-08</td>\n      <td>GRA</td>\n      <td>BA.5.1</td>\n      <td>4517344</td>\n      <td>32367</td>\n      <td>57</td>\n      <td>45</td>\n      <td>4706071</td>\n      <td>84</td>\n    </tr>\n  </tbody>\n</table>\n<p>11651706 rows × 11 columns</p>\n</div>"
     },
     "execution_count": 30,
     "metadata": {},
     "output_type": "execute_result"
    }
   ],
   "source": [
    "df = (data\n",
    "        [['drop','combineMuts', 'currCollectiondate','currCovClade', 'currLineage']] # choose specific columns\n",
    "        .dropna() # prop rows with nan values\n",
    "        #.loc[:1000,:]#[:8000000,0]\n",
    "        .pipe(drop_unassigned_lineages)\n",
    "        .sort_values(by='currCollectiondate') # sort df by collection date\n",
    "        .pipe(assign_frequencies_clade)\n",
    "        .pipe(assign_frequencies_lineage)\n",
    "        .assign(n_muts=lambda df_: df_.combineMuts.apply(lambda x: x.count(','))) # count number of mutations for each submission\n",
    "        # please note that for deletions and insertion actual number of mutations could be grater\n",
    "        .pipe(extract_substs)\n",
    "        .assign(n_substs=lambda df_: df_.combineMuts.apply(lambda x: x.count(','))) # count number of substitutions for each submission\n",
    "        .assign(var_le=lambda df_: pd.factorize(df_.combineMuts)[0]) # assign label encodings for unique variants\n",
    "        .pipe(assign_frequencies_le)\n",
    ")\n",
    "df"
   ],
   "metadata": {
    "collapsed": false
   }
  },
  {
   "cell_type": "code",
   "execution_count": 31,
   "id": "828c1b11-5bec-43cf-992e-973929953953",
   "metadata": {},
   "outputs": [],
   "source": [
    "df.to_csv('score_date_substs_freq.csv', index=False) # save new .csv"
   ]
  },
  {
   "cell_type": "markdown",
   "id": "9a6608c5-db39-4b78-9757-db45c5a1abd9",
   "metadata": {},
   "source": [
    "## Prep for FGAN"
   ]
  },
  {
   "cell_type": "code",
   "execution_count": 32,
   "id": "ea2f7fc4-a186-48b6-85b7-ca2469182dae",
   "metadata": {},
   "outputs": [],
   "source": [
    "proteins = ['E', 'M', 'N', 'NS3', 'NS6', 'NS7a', 'NS7b', 'NS8', 'NSP1', 'NSP10',\n",
    "            'NSP12', 'NSP13', 'NSP14', 'NSP15', 'NSP16', 'NSP2', 'NSP3', 'NSP4',\n",
    "            'NSP5', 'NSP6', 'NSP7', 'NSP8', 'NSP9', 'Spike']\n",
    "\n",
    "prot_le = {'E': 0, 'M': 1, 'N': 2, 'NS3': 3, 'NS6': 4, 'NS7a': 5, 'NS7b': 6, 'NS8': 7,\n",
    "            'NSP1': 8, 'NSP10': 9, 'NSP12': 10, 'NSP13': 11, 'NSP14': 12, 'NSP15': 13,\n",
    "            'NSP16': 14, 'NSP2': 15, 'NSP3': 16, 'NSP4': 17, 'NSP5': 18, 'NSP6': 19,\n",
    "            'NSP7': 20, 'NSP8': 21, 'NSP9': 22, 'Spike': 23}\n",
    "\n",
    "amino_acids = ['A', 'C', 'D', 'E', 'F', 'G', 'H', 'I', 'K', 'L', 'M', 'N', 'P', 'Q', 'R', 'S', 'T', 'V', 'W', 'Y']\n",
    "\n",
    "aa_le = {'A': 0, 'C': 1, 'D': 2, 'E': 3, 'F': 4, 'G': 5, 'H': 6, 'I': 7, 'K': 8, 'L': 9, 'M': 10, 'N': 11,\n",
    "          'P': 12, 'Q': 13, 'R': 14, 'S': 15, 'T': 16, 'V': 17, 'W': 18, 'Y': 19}\n",
    "\n",
    "prot_ldec = {v: k for k, v in prot_le.items()}\n",
    "aa_ldec = {v: k for k, v in aa_le.items()}\n",
    "\n",
    "def pre_encode(s, prot_le_, aa_le_):\n",
    "    prot, subst = s.split('_')\n",
    "    return np.array([prot_le_[prot], int(subst[1:-1]), aa_le_[subst[-1]]])\n",
    "\n",
    "\n",
    "def load_numpy(arr_dir):\n",
    "    with open(arr_dir, 'rb') as f:\n",
    "        data = np.load(f)\n",
    "    return data\n",
    "\n",
    "def save_numpy(arr, arr_dir):\n",
    "    with open(arr_dir, 'wb') as f:\n",
    "        np.save(f, arr)"
   ]
  },
  {
   "cell_type": "code",
   "execution_count": 35,
   "id": "f7885451-d268-4a58-9cbe-f69e8bcae1ba",
   "metadata": {},
   "outputs": [
    {
     "data": {
      "text/plain": "             drop             combineMuts currCollectiondate currCovClade  \\\n0  EPI_ISL_402123  NSP3_N1890S,NSP4_F145I         2019-12-24            L   \n1  EPI_ISL_406798  NSP3_L1417I,NSP6_N264K         2019-12-26            L   \n2  EPI_ISL_402130  NSP3_D1761A,NSP4_T327I         2019-12-30            L   \n3  EPI_ISL_403930             NSP3_I1426T         2019-12-30            L   \n4  EPI_ISL_402132              Spike_F32I         2019-12-30            L   \n\n  currLineage  frequency_clade  frequency_lineage  n_muts  n_substs  var_le  \\\n0           B             5182               9349       1         1       0   \n1           B             5182               9349       1         1       1   \n2           B             5182               9349       2         1       2   \n3           B             5182               9349       1         0       3   \n4           B             5182               9349       0         0       4   \n\n   frequency_le  \n0             1  \n1             1  \n2             1  \n3             1  \n4             1  ",
      "text/html": "<div>\n<style scoped>\n    .dataframe tbody tr th:only-of-type {\n        vertical-align: middle;\n    }\n\n    .dataframe tbody tr th {\n        vertical-align: top;\n    }\n\n    .dataframe thead th {\n        text-align: right;\n    }\n</style>\n<table border=\"1\" class=\"dataframe\">\n  <thead>\n    <tr style=\"text-align: right;\">\n      <th></th>\n      <th>drop</th>\n      <th>combineMuts</th>\n      <th>currCollectiondate</th>\n      <th>currCovClade</th>\n      <th>currLineage</th>\n      <th>frequency_clade</th>\n      <th>frequency_lineage</th>\n      <th>n_muts</th>\n      <th>n_substs</th>\n      <th>var_le</th>\n      <th>frequency_le</th>\n    </tr>\n  </thead>\n  <tbody>\n    <tr>\n      <th>0</th>\n      <td>EPI_ISL_402123</td>\n      <td>NSP3_N1890S,NSP4_F145I</td>\n      <td>2019-12-24</td>\n      <td>L</td>\n      <td>B</td>\n      <td>5182</td>\n      <td>9349</td>\n      <td>1</td>\n      <td>1</td>\n      <td>0</td>\n      <td>1</td>\n    </tr>\n    <tr>\n      <th>1</th>\n      <td>EPI_ISL_406798</td>\n      <td>NSP3_L1417I,NSP6_N264K</td>\n      <td>2019-12-26</td>\n      <td>L</td>\n      <td>B</td>\n      <td>5182</td>\n      <td>9349</td>\n      <td>1</td>\n      <td>1</td>\n      <td>1</td>\n      <td>1</td>\n    </tr>\n    <tr>\n      <th>2</th>\n      <td>EPI_ISL_402130</td>\n      <td>NSP3_D1761A,NSP4_T327I</td>\n      <td>2019-12-30</td>\n      <td>L</td>\n      <td>B</td>\n      <td>5182</td>\n      <td>9349</td>\n      <td>2</td>\n      <td>1</td>\n      <td>2</td>\n      <td>1</td>\n    </tr>\n    <tr>\n      <th>3</th>\n      <td>EPI_ISL_403930</td>\n      <td>NSP3_I1426T</td>\n      <td>2019-12-30</td>\n      <td>L</td>\n      <td>B</td>\n      <td>5182</td>\n      <td>9349</td>\n      <td>1</td>\n      <td>0</td>\n      <td>3</td>\n      <td>1</td>\n    </tr>\n    <tr>\n      <th>4</th>\n      <td>EPI_ISL_402132</td>\n      <td>Spike_F32I</td>\n      <td>2019-12-30</td>\n      <td>L</td>\n      <td>B</td>\n      <td>5182</td>\n      <td>9349</td>\n      <td>0</td>\n      <td>0</td>\n      <td>4</td>\n      <td>1</td>\n    </tr>\n  </tbody>\n</table>\n</div>"
     },
     "execution_count": 35,
     "metadata": {},
     "output_type": "execute_result"
    }
   ],
   "source": [
    "data = pd.read_csv('score_date_substs_freq.csv')\n",
    "data.head()"
   ]
  },
  {
   "cell_type": "code",
   "execution_count": 74,
   "id": "b524c14b-1db6-4923-b39e-0430a9573d91",
   "metadata": {},
   "outputs": [
    {
     "name": "stderr",
     "output_type": "stream",
     "text": [
      "/var/folders/cn/qx1yryw16j31v3wclm00rtf80000gn/T/ipykernel_6495/3898730046.py:1: UserWarning: Boolean Series key will be reindexed to match DataFrame index.\n",
      "  df= (data\n",
      "100%|███████████████████████████████| 539784/539784 [00:02<00:00, 246549.10it/s]\n"
     ]
    }
   ],
   "source": [
    "df= (data\n",
    "        .loc[:1000,:]#[:8000000,0]\n",
    "        [data.currCollectiondate > '2020-06-00']\n",
    "        [data.currCollectiondate < '2021-00-00']\n",
    "        [data.n_substs < 50]\n",
    "        [df.columns[:-1]]\n",
    "        .pipe(assign_frequencies)\n",
    "        .dropna()\n",
    ")"
   ]
  },
  {
   "cell_type": "code",
   "execution_count": 81,
   "id": "d32d2419-2f92-43b3-a7fd-205c92681994",
   "metadata": {},
   "outputs": [],
   "source": [
    "df[df.columns[-3:]].to_csv('variants_1_meta.csv', index=False)"
   ]
  },
  {
   "cell_type": "code",
   "execution_count": 77,
   "id": "d6095912-07f2-4f10-8e3c-da68a5b5eb04",
   "metadata": {},
   "outputs": [],
   "source": [
    "df_good = (df\n",
    "           [['combineMuts']]\n",
    ")\n",
    "\n",
    "arr = np.zeros((len(df_good), 50, 3))\n",
    "for i, variant in enumerate(df_good.values):\n",
    "    for j, mut in enumerate(variant[0].split(',')):\n",
    "        arr[i,j] = pre_encode(mut, prot_le, aa_le)\n",
    "        \n",
    "save_numpy(arr, 'variants_1.npy')"
   ]
  }
 ],
 "metadata": {
  "kernelspec": {
   "display_name": "Python 3 (ipykernel)",
   "language": "python",
   "name": "python3"
  },
  "language_info": {
   "codemirror_mode": {
    "name": "ipython",
    "version": 3
   },
   "file_extension": ".py",
   "mimetype": "text/x-python",
   "name": "python",
   "nbconvert_exporter": "python",
   "pygments_lexer": "ipython3",
   "version": "3.10.4"
  },
  "toc-autonumbering": true,
  "toc-showmarkdowntxt": false
 },
 "nbformat": 4,
 "nbformat_minor": 5
}
