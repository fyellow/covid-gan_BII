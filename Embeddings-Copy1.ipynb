{
 "cells": [
  {
   "cell_type": "code",
   "execution_count": null,
   "id": "b9129846-4d04-4fcf-8c28-4d736de82d1d",
   "metadata": {
    "pycharm": {
     "is_executing": true
    }
   },
   "outputs": [],
   "source": [
    "import numpy as np\n",
    "import pandas as pd\n",
    "import torch\n",
    "import torch.nn as nn\n",
    "import torch.nn.functional as F\n",
    "import math, copy, time\n",
    "from torch.autograd import Variable\n",
    "%matplotlib inline\n",
    "import matplotlib.pyplot as plt\n",
    "import seaborn\n",
    "seaborn.set_context(context=\"talk\")\n",
    "\n",
    "cuda = True if torch.cuda.is_available() else False\n",
    "from tqdm import tqdm\n",
    "from IPython.display import clear_output\n",
    "\n",
    "Tensor = torch.cuda.FloatTensor if cuda else torch.FloatTensor\n",
    "from torchsummary import summary\n",
    "\n",
    "import warnings\n",
    "with warnings.catch_warnings():\n",
    "    warnings.simplefilter('ignore', category=UserWarning)"
   ]
  },
  {
   "cell_type": "code",
   "execution_count": 2,
   "id": "7c9ab2ea-f413-4f76-844d-991b51e15f6c",
   "metadata": {},
   "outputs": [],
   "source": [
    "def load_numpy(arr_dir):\n",
    "    with open(arr_dir, 'rb') as f:\n",
    "        data = np.load(f)\n",
    "    return data\n",
    "\n",
    "def save_numpy(arr, arr_dir):\n",
    "    with open(arr_dir, 'wb') as f:\n",
    "        np.save(f, arr)\n",
    "\n",
    "proteins = ['E', 'M', 'N', 'NS3', 'NS6', 'NS7a', 'NS7b', 'NS8', 'NSP1', 'NSP10',\n",
    "            'NSP12', 'NSP13', 'NSP14', 'NSP15', 'NSP16', 'NSP2', 'NSP3', 'NSP4',\n",
    "            'NSP5', 'NSP6', 'NSP7', 'NSP8', 'NSP9', 'Spike']\n",
    "\n",
    "prot_le = {'E': 0, 'M': 1, 'N': 2, 'NS3': 3, 'NS6': 4, 'NS7a': 5, 'NS7b': 6, 'NS8': 7,\n",
    "            'NSP1': 8, 'NSP10': 9, 'NSP12': 10, 'NSP13': 11, 'NSP14': 12, 'NSP15': 13,\n",
    "            'NSP16': 14, 'NSP2': 15, 'NSP3': 16, 'NSP4': 17, 'NSP5': 18, 'NSP6': 19,\n",
    "            'NSP7': 20, 'NSP8': 21, 'NSP9': 22, 'Spike': 23}\n",
    "\n",
    "\n",
    "amino_acids = ['A', 'C', 'D', 'E', 'F', 'G', 'H', 'I', 'K', 'L', 'M', 'N', 'P', 'Q', 'R', 'S', 'T', 'V', 'W', 'Y']\n",
    "\n",
    "aa_le = {'A': 0, 'C': 1, 'D': 2, 'E': 3, 'F': 4, 'G': 5, 'H': 6, 'I': 7, 'K': 8, 'L': 9, 'M': 10, 'N': 11,\n",
    "          'P': 12, 'Q': 13, 'R': 14, 'S': 15, 'T': 16, 'V': 17, 'W': 18, 'Y': 19}\n",
    "\n",
    "\n",
    "def pre_encode(s, prot_le_, aa_le_):\n",
    "    prot, subst = s.split('_')\n",
    "    return np.array([prot_le_[prot], int(subst[1:-1]), aa_le_[subst[-1]]])"
   ]
  },
  {
   "cell_type": "markdown",
   "id": "867a711d-c177-4b14-9125-d0dcd5630669",
   "metadata": {},
   "source": [
    "#### Idea: from triple (protein, loc_mut, new_acid) we make new embedded vector with\n",
    "1. Encode protein and amino_acid in similar way\n",
    "2. Encode loc_mut with positional encoding\n",
    "3. Concatenate all three embeddings\n",
    "4. Assamble mebeddings with all mutations into one matrix (rows = muts)"
   ]
  },
  {
   "cell_type": "markdown",
   "id": "98af96f3-9622-4832-885c-ebd1e44f3d01",
   "metadata": {},
   "source": [
    "**Amino acid encoding for deep learning applications:**\n",
    "https://bmcbioinformatics.biomedcentral.com/articles/10.1186/s12859-020-03546-x\n",
    "\n",
    "Another possible way for representing input sequences in a task-specific manner is by making the encoding a learnable part of the model, i.e. by jointly learning the encoding scheme with other model parameters (here, *end-to-end learning*). Arguably, end-to-end learning has been particularly effective as data availability increases and deep learning models can be trained on very large datasets. In such data-intensive cases, the models may be able to capture features which underlie similarities and differences between amino acids which are not captured by classical manually-curated encodings. It might also enable the model to encode, learn and extract the aspects of amino acids that are relevant for the task-at-hand which might differ between different tasks. Such applications may require a minimum amount of training data, and the threshold for this data size in bioinformatics remains unconstrained."
   ]
  },
  {
   "cell_type": "code",
   "execution_count": null,
   "id": "ab7db042-1b99-4656-aace-d12d2dedc209",
   "metadata": {
    "pycharm": {
     "is_executing": true
    }
   },
   "outputs": [],
   "source": [
    "import numpy"
   ]
  },
  {
   "cell_type": "markdown",
   "id": "2755c91a-4fd5-44cd-8aea-b63d903bb032",
   "metadata": {},
   "source": [
    "**Positional encoding:**\n",
    "It may be useful to save memory with positional encoding for the location of mutations and to summ it to encoding of prot and aa embeddings instead of concatination. "
   ]
  },
  {
   "cell_type": "markdown",
   "id": "a9e299dc-4542-447f-bc49-ed0d3de60543",
   "metadata": {},
   "source": [
    "Code from http://nlp.seas.harvard.edu/2018/04/03/attention.html#positional-encoding :"
   ]
  },
  {
   "cell_type": "code",
   "execution_count": 18,
   "id": "a5831d6d-9db3-4990-a276-45f3990bb86b",
   "metadata": {},
   "outputs": [],
   "source": [
    "class BasicEncoding(nn.Module):\n",
    "    def __init__(self, ndim=5):\n",
    "        super(BasicEncoding, self).__init__()\n",
    "        self.ndim = ndim\n",
    "        self.fc1 = nn.Linear(1, self.ndim)\n",
    "        self.fc2 = nn.Linear(self.ndim, self.ndim)\n",
    "        self.activation = nn.LeakyReLU()\n",
    "    def forward(self, Input):\n",
    "        x = self.activation(self.fc1(Input))\n",
    "        x = self.activation(self.fc2(x))\n",
    "        return x\n",
    "    \n",
    "# class BasicDecoding(nn.Module):\n",
    "#     def __init__(self, indim=5, outdim=1):\n",
    "#         super(BasicDecoding, self).__init__()\n",
    "#         self.indim = indim\n",
    "#         self.outdim = outdim\n",
    "#         self.fc1 = nn.Linear(self.indim, self.indim)\n",
    "#         self.fc2 = nn.Linear(self.indim, self.outdim)\n",
    "#         self.rl = nn.ReLU()\n",
    "#         self.sm = nn.Softmax(dim=0)\n",
    "#     def forward(self, Input):\n",
    "#         if self.outdim == 1:\n",
    "#             x = self.fc2(self.rl(self.fc1(Input))).round()\n",
    "#         else:\n",
    "#             x = torch.argmax(self.sm(self.fc2(self.rl(self.fc1(Input)))), dim=1)\n",
    "#         return x\n",
    "    \n",
    "class BasicDecoding(nn.Module):\n",
    "    def __init__(self, indim=5, outdim=1):\n",
    "        super(BasicDecoding, self).__init__()\n",
    "        self.indim = indim\n",
    "        self.outdim = outdim\n",
    "        self.fc1 = nn.Linear(self.indim, self.indim)\n",
    "        self.fc2 = nn.Linear(self.indim, 1)\n",
    "        self.rl = nn.LeakyReLU()\n",
    "        self.sm = nn.Softmax(dim=0)\n",
    "    def forward(self, Input):\n",
    "        x = self.fc2(self.rl(self.fc1(Input)))#.round()\n",
    "        return x\n",
    "\n",
    "class SubstitutionEncoding(nn.Module):\n",
    "    def __init__(self, protdim=5, locdim=5, aadim=5):\n",
    "        super(SubstitutionEncoding, self).__init__()\n",
    "        self.protdim = protdim\n",
    "        self.locdim = locdim\n",
    "        self.aadim = aadim\n",
    "        \n",
    "        self.prot_encoder = BasicEncoding(ndim=self.protdim)\n",
    "        self.loc_encoder = BasicEncoding(ndim=self.locdim)\n",
    "        self.aa_encoder = BasicEncoding(ndim=self.aadim)\n",
    "\n",
    "    def forward(self, Input):\n",
    "        prot_encoding = self.prot_encoder(Input[:,:,0])\n",
    "        loc_encoding = self.loc_encoder(Input[:,:,1])\n",
    "        aa_encoding = self.aa_encoder(Input[:,:,2])\n",
    "    \n",
    "        x = torch.cat((prot_encoding, loc_encoding, aa_encoding),dim=1)\n",
    "        return x\n",
    "    \n",
    "    \n",
    "class SubstitutionDecoding(nn.Module):\n",
    "    def __init__(self, protdim=5, locdim=5, aadim=5):\n",
    "        super(SubstitutionDecoding, self).__init__()\n",
    "        self.protdim = protdim\n",
    "        self.locdim = locdim\n",
    "        self.aadim = aadim\n",
    "        \n",
    "        self.prot_decoder = BasicDecoding(indim=self.protdim, outdim=24)\n",
    "        self.loc_decoder = BasicDecoding(indim=self.locdim, outdim=1)\n",
    "        self.aa_decoder = BasicDecoding(indim=self.aadim, outdim=20)\n",
    "        \n",
    "    def forward(self, Input):\n",
    "        prot_prt = Input[:,:self.protdim]\n",
    "        loc_prt = Input[:,self.protdim:self.locdim+self.protdim]\n",
    "        aa_prt = Input[:,self.locdim+self.protdim:]\n",
    "        \n",
    "        prot = self.prot_decoder(prot_prt).reshape(-1,n,1)\n",
    "        loc = self.loc_decoder(loc_prt).reshape(n,1)\n",
    "        aa = self.aa_decoder(aa_prt).reshape(n,1)\n",
    "        x = torch.cat((prot, loc, aa),dim=1).reshape(n,3,1)\n",
    "        return x\n",
    "    \n",
    "class AutoEncoder(nn.Module):\n",
    "    def __init__(self, protdim=5, locdim=5, aadim=5):\n",
    "        super(AutoEncoder, self).__init__()\n",
    "        self.protdim = protdim\n",
    "        self.locdim = locdim\n",
    "        self.aadim = aadim\n",
    "        \n",
    "        self.encoder = SubstitutionEncoding(protdim=self.protdim, locdim=self.locdim, aadim=self.aadim)\n",
    "        self.decoder = SubstitutionDecoding(protdim=self.protdim, locdim=self.locdim, aadim=self.aadim)\n",
    "        \n",
    "        \n",
    "    def forward(self, Input):\n",
    "        x = self.decoder(self.encoder(Input))\n",
    "        return x\n",
    "\n",
    "        "
   ]
  },
  {
   "cell_type": "code",
   "execution_count": 19,
   "id": "ee26c922-d3c6-4c22-8c6d-00bccedfac50",
   "metadata": {},
   "outputs": [
    {
     "ename": "RuntimeError",
     "evalue": "shape '[2, 1]' is invalid for input of size 4",
     "output_type": "error",
     "traceback": [
      "\u001B[0;31m---------------------------------------------------------------------------\u001B[0m",
      "\u001B[0;31mRuntimeError\u001B[0m                              Traceback (most recent call last)",
      "Input \u001B[0;32mIn [19]\u001B[0m, in \u001B[0;36m<cell line: 3>\u001B[0;34m()\u001B[0m\n\u001B[1;32m      1\u001B[0m model \u001B[38;5;241m=\u001B[39m AutoEncoder(protdim\u001B[38;5;241m=\u001B[39m\u001B[38;5;241m2\u001B[39m, locdim\u001B[38;5;241m=\u001B[39m\u001B[38;5;241m2\u001B[39m, aadim\u001B[38;5;241m=\u001B[39m\u001B[38;5;241m2\u001B[39m)\n\u001B[0;32m----> 3\u001B[0m \u001B[43mmodel\u001B[49m\u001B[43m(\u001B[49m\u001B[43mTensor\u001B[49m\u001B[43m(\u001B[49m\u001B[43marr\u001B[49m\u001B[43m[\u001B[49m\u001B[43m:\u001B[49m\u001B[38;5;241;43m2\u001B[39;49m\u001B[43m]\u001B[49m\u001B[43m)\u001B[49m\u001B[38;5;241;43m.\u001B[39;49m\u001B[43mreshape\u001B[49m\u001B[43m(\u001B[49m\u001B[38;5;241;43m-\u001B[39;49m\u001B[38;5;241;43m1\u001B[39;49m\u001B[43m,\u001B[49m\u001B[38;5;241;43m80\u001B[39;49m\u001B[43m,\u001B[49m\u001B[38;5;241;43m3\u001B[39;49m\u001B[43m,\u001B[49m\u001B[38;5;241;43m1\u001B[39;49m\u001B[43m)\u001B[49m\u001B[43m)\u001B[49m\u001B[38;5;241m.\u001B[39mshape\n",
      "File \u001B[0;32m~/opt/anaconda3/envs/covid/lib/python3.10/site-packages/torch/nn/modules/module.py:1130\u001B[0m, in \u001B[0;36mModule._call_impl\u001B[0;34m(self, *input, **kwargs)\u001B[0m\n\u001B[1;32m   1126\u001B[0m \u001B[38;5;66;03m# If we don't have any hooks, we want to skip the rest of the logic in\u001B[39;00m\n\u001B[1;32m   1127\u001B[0m \u001B[38;5;66;03m# this function, and just call forward.\u001B[39;00m\n\u001B[1;32m   1128\u001B[0m \u001B[38;5;28;01mif\u001B[39;00m \u001B[38;5;129;01mnot\u001B[39;00m (\u001B[38;5;28mself\u001B[39m\u001B[38;5;241m.\u001B[39m_backward_hooks \u001B[38;5;129;01mor\u001B[39;00m \u001B[38;5;28mself\u001B[39m\u001B[38;5;241m.\u001B[39m_forward_hooks \u001B[38;5;129;01mor\u001B[39;00m \u001B[38;5;28mself\u001B[39m\u001B[38;5;241m.\u001B[39m_forward_pre_hooks \u001B[38;5;129;01mor\u001B[39;00m _global_backward_hooks\n\u001B[1;32m   1129\u001B[0m         \u001B[38;5;129;01mor\u001B[39;00m _global_forward_hooks \u001B[38;5;129;01mor\u001B[39;00m _global_forward_pre_hooks):\n\u001B[0;32m-> 1130\u001B[0m     \u001B[38;5;28;01mreturn\u001B[39;00m \u001B[43mforward_call\u001B[49m\u001B[43m(\u001B[49m\u001B[38;5;241;43m*\u001B[39;49m\u001B[38;5;28;43minput\u001B[39;49m\u001B[43m,\u001B[49m\u001B[43m \u001B[49m\u001B[38;5;241;43m*\u001B[39;49m\u001B[38;5;241;43m*\u001B[39;49m\u001B[43mkwargs\u001B[49m\u001B[43m)\u001B[49m\n\u001B[1;32m   1131\u001B[0m \u001B[38;5;66;03m# Do not call functions when jit is used\u001B[39;00m\n\u001B[1;32m   1132\u001B[0m full_backward_hooks, non_full_backward_hooks \u001B[38;5;241m=\u001B[39m [], []\n",
      "Input \u001B[0;32mIn [18]\u001B[0m, in \u001B[0;36mAutoEncoder.forward\u001B[0;34m(self, Input)\u001B[0m\n\u001B[1;32m     96\u001B[0m \u001B[38;5;28;01mdef\u001B[39;00m \u001B[38;5;21mforward\u001B[39m(\u001B[38;5;28mself\u001B[39m, Input):\n\u001B[0;32m---> 97\u001B[0m     x \u001B[38;5;241m=\u001B[39m \u001B[38;5;28;43mself\u001B[39;49m\u001B[38;5;241;43m.\u001B[39;49m\u001B[43mdecoder\u001B[49m\u001B[43m(\u001B[49m\u001B[38;5;28;43mself\u001B[39;49m\u001B[38;5;241;43m.\u001B[39;49m\u001B[43mencoder\u001B[49m\u001B[43m(\u001B[49m\u001B[43mInput\u001B[49m\u001B[43m)\u001B[49m\u001B[43m)\u001B[49m\n\u001B[1;32m     98\u001B[0m     \u001B[38;5;28;01mreturn\u001B[39;00m x\n",
      "File \u001B[0;32m~/opt/anaconda3/envs/covid/lib/python3.10/site-packages/torch/nn/modules/module.py:1130\u001B[0m, in \u001B[0;36mModule._call_impl\u001B[0;34m(self, *input, **kwargs)\u001B[0m\n\u001B[1;32m   1126\u001B[0m \u001B[38;5;66;03m# If we don't have any hooks, we want to skip the rest of the logic in\u001B[39;00m\n\u001B[1;32m   1127\u001B[0m \u001B[38;5;66;03m# this function, and just call forward.\u001B[39;00m\n\u001B[1;32m   1128\u001B[0m \u001B[38;5;28;01mif\u001B[39;00m \u001B[38;5;129;01mnot\u001B[39;00m (\u001B[38;5;28mself\u001B[39m\u001B[38;5;241m.\u001B[39m_backward_hooks \u001B[38;5;129;01mor\u001B[39;00m \u001B[38;5;28mself\u001B[39m\u001B[38;5;241m.\u001B[39m_forward_hooks \u001B[38;5;129;01mor\u001B[39;00m \u001B[38;5;28mself\u001B[39m\u001B[38;5;241m.\u001B[39m_forward_pre_hooks \u001B[38;5;129;01mor\u001B[39;00m _global_backward_hooks\n\u001B[1;32m   1129\u001B[0m         \u001B[38;5;129;01mor\u001B[39;00m _global_forward_hooks \u001B[38;5;129;01mor\u001B[39;00m _global_forward_pre_hooks):\n\u001B[0;32m-> 1130\u001B[0m     \u001B[38;5;28;01mreturn\u001B[39;00m \u001B[43mforward_call\u001B[49m\u001B[43m(\u001B[49m\u001B[38;5;241;43m*\u001B[39;49m\u001B[38;5;28;43minput\u001B[39;49m\u001B[43m,\u001B[49m\u001B[43m \u001B[49m\u001B[38;5;241;43m*\u001B[39;49m\u001B[38;5;241;43m*\u001B[39;49m\u001B[43mkwargs\u001B[49m\u001B[43m)\u001B[49m\n\u001B[1;32m   1131\u001B[0m \u001B[38;5;66;03m# Do not call functions when jit is used\u001B[39;00m\n\u001B[1;32m   1132\u001B[0m full_backward_hooks, non_full_backward_hooks \u001B[38;5;241m=\u001B[39m [], []\n",
      "Input \u001B[0;32mIn [18]\u001B[0m, in \u001B[0;36mSubstitutionDecoding.forward\u001B[0;34m(self, Input)\u001B[0m\n\u001B[1;32m     76\u001B[0m aa_prt \u001B[38;5;241m=\u001B[39m Input[:,\u001B[38;5;28mself\u001B[39m\u001B[38;5;241m.\u001B[39mlocdim\u001B[38;5;241m+\u001B[39m\u001B[38;5;28mself\u001B[39m\u001B[38;5;241m.\u001B[39mprotdim:]\n\u001B[1;32m     78\u001B[0m n\u001B[38;5;241m=\u001B[39m\u001B[38;5;28mlen\u001B[39m(Input)\n\u001B[0;32m---> 79\u001B[0m prot \u001B[38;5;241m=\u001B[39m \u001B[38;5;28;43mself\u001B[39;49m\u001B[38;5;241;43m.\u001B[39;49m\u001B[43mprot_decoder\u001B[49m\u001B[43m(\u001B[49m\u001B[43mprot_prt\u001B[49m\u001B[43m)\u001B[49m\u001B[38;5;241;43m.\u001B[39;49m\u001B[43mreshape\u001B[49m\u001B[43m(\u001B[49m\u001B[43mn\u001B[49m\u001B[43m,\u001B[49m\u001B[38;5;241;43m1\u001B[39;49m\u001B[43m)\u001B[49m\n\u001B[1;32m     80\u001B[0m loc \u001B[38;5;241m=\u001B[39m \u001B[38;5;28mself\u001B[39m\u001B[38;5;241m.\u001B[39mloc_decoder(loc_prt)\u001B[38;5;241m.\u001B[39mreshape(n,\u001B[38;5;241m1\u001B[39m)\n\u001B[1;32m     81\u001B[0m aa \u001B[38;5;241m=\u001B[39m \u001B[38;5;28mself\u001B[39m\u001B[38;5;241m.\u001B[39maa_decoder(aa_prt)\u001B[38;5;241m.\u001B[39mreshape(n,\u001B[38;5;241m1\u001B[39m)\n",
      "\u001B[0;31mRuntimeError\u001B[0m: shape '[2, 1]' is invalid for input of size 4"
     ]
    }
   ],
   "source": [
    "model = AutoEncoder(protdim=2, locdim=2, aadim=2)\n",
    "\n",
    "model(Tensor(arr[:2]).reshape(-1,80,3,1)).shape"
   ]
  },
  {
   "cell_type": "code",
   "execution_count": 16,
   "id": "4f73e4e7-940b-4647-8327-509c53f4f7d4",
   "metadata": {},
   "outputs": [],
   "source": [
    "arr = load_numpy('variants.npy')"
   ]
  },
  {
   "cell_type": "code",
   "execution_count": 11,
   "id": "51d4ae12-c96e-4ed1-a4db-149f8c2696b9",
   "metadata": {},
   "outputs": [],
   "source": [
    "model = AutoEncoder(protdim=2, locdim=2, aadim=2)\n",
    "#summary(model,(3,1))\n",
    "\n",
    "mse_loss = nn.MSELoss()\n",
    "opt = torch.optim.Adam(model.parameters(), lr=1e-1)\n",
    "\n",
    "data = load_numpy('substs_preenc.npy')\n",
    "data = np.concatenate((data, np.zeros((1000,3))))\n",
    "np.random.shuffle(data)\n"
   ]
  },
  {
   "cell_type": "code",
   "execution_count": 49,
   "id": "76cbf358-b96a-481d-8146-ede6e144019a",
   "metadata": {},
   "outputs": [],
   "source": [
    "opt = torch.optim.Adam(model.parameters(), lr=5e-2)"
   ]
  },
  {
   "cell_type": "code",
   "execution_count": 74,
   "id": "da89d282-ecd9-4f0c-9ca1-be64dd4c4944",
   "metadata": {},
   "outputs": [
    {
     "name": "stdout",
     "output_type": "stream",
     "text": [
      "epoch 20 \n",
      "loss 0.00014082844427321106\n"
     ]
    },
    {
     "data": {
      "image/png": "[encoded data removed]",
      "text/plain": [
       "<Figure size 576x432 with 1 Axes>"
      ]
     },
     "metadata": {
      "needs_background": "light"
     },
     "output_type": "display_data"
    }
   ],
   "source": [
    "n_epochs=20 +1\n",
    "batch_size= 1000\n",
    "loss_train, loss_test = [], []\n",
    "v_animate=1\n",
    "\n",
    "n_batches = len(data)//batch_size\n",
    "training_data = Tensor(data[:batch_size*n_batches].reshape((n_batches, batch_size, 3,1)))\n",
    "test_data = training_data[round(n_batches*0.8)+1:]\n",
    "training_data = training_data[:round(n_batches*0.8)+1]\n",
    "\n",
    "\n",
    "for epoch in range(n_epochs):\n",
    "    epoch_loss=0\n",
    "    for i, batch in enumerate(training_data):\n",
    "        \n",
    "        opt.zero_grad()\n",
    "\n",
    "        loss = mse_loss(model(batch),batch)\n",
    "\n",
    "        loss.backward()\n",
    "        opt.step()\n",
    "        epoch_loss += loss.item()\n",
    "        #print(\"[Epoch %d/%d] [D loss: %f] [G loss: %f]\"% (epoch, n_epochs, d_loss.item(), g_loss.item()))\n",
    "        # plt.figure()\n",
    "        # plt.plot(arr_i, arr_g_loss, label='G_loss')\n",
    "        # plt.plot(arr_i, arr_d_loss, label='D_loss')\n",
    "        # plt.legend();\n",
    "    loss_train.append(epoch_loss/(i+1))\n",
    "    loss_test.append(mse_loss(model(test_data.reshape(-1,3,1)), test_data.reshape(-1,3,1)))\n",
    "    # clear_output(wait=True)\n",
    "    # print(f'epoch {epoch} \\nloss {loss.item()}')\n",
    "    if epoch % v_animate == 0:\n",
    "        clear_output(wait=True)\n",
    "        print(f'epoch {epoch} \\nloss {loss.item()}')\n",
    "        plt.figure(figsize=(8,6))\n",
    "        plt.plot(np.arange(epoch+1), loss_train)\n",
    "        plt.plot(np.arange(epoch+1), loss_test)\n",
    "        plt.title(f'Current epoch {epoch}')\n",
    "        plt.xlabel('n_epochs')\n",
    "        plt.xlabel('MSE loss')\n",
    "        plt.show()"
   ]
  },
  {
   "cell_type": "markdown",
   "id": "bba8cd53-2058-4d27-88c2-3df9049ddd86",
   "metadata": {},
   "source": [
    "## Check models' quality"
   ]
  },
  {
   "cell_type": "code",
   "execution_count": 75,
   "id": "67e64d38-085a-419f-8519-e654ccc59c7e",
   "metadata": {},
   "outputs": [
    {
     "data": {
      "text/plain": [
       "tensor([[ 0.],\n",
       "        [11.],\n",
       "        [ 0.]], grad_fn=<AddBackward0>)"
      ]
     },
     "execution_count": 75,
     "metadata": {},
     "output_type": "execute_result"
    }
   ],
   "source": [
    "sum((model(training_data.reshape(-1,3,1)).round()-training_data.reshape(-1,3,1))**2)"
   ]
  },
  {
   "cell_type": "code",
   "execution_count": 76,
   "id": "accaddb8-76ab-4cfe-bd89-9fa049365ad1",
   "metadata": {},
   "outputs": [
    {
     "data": {
      "text/plain": [
       "tensor([[0.],\n",
       "        [7.],\n",
       "        [0.]], grad_fn=<AddBackward0>)"
      ]
     },
     "execution_count": 76,
     "metadata": {},
     "output_type": "execute_result"
    }
   ],
   "source": [
    "sum((model(test_data.reshape(-1,3,1)).round()-test_data.reshape(-1,3,1))**2)"
   ]
  },
  {
   "cell_type": "code",
   "execution_count": 79,
   "id": "c3d3dc01-2839-4999-af7d-6055981f7714",
   "metadata": {},
   "outputs": [
    {
     "data": {
      "text/plain": [
       "tensor([[[0.],\n",
       "         [-0.],\n",
       "         [-0.]]], grad_fn=<RoundBackward0>)"
      ]
     },
     "execution_count": 79,
     "metadata": {},
     "output_type": "execute_result"
    }
   ],
   "source": [
    "model(Tensor([0,0,0]).reshape(-1,3,1)).round()"
   ]
  },
  {
   "cell_type": "markdown",
   "id": "211b10af-e071-4d6b-8b73-b2f054ebe4d4",
   "metadata": {},
   "source": [
    "## Saving and loading the model"
   ]
  },
  {
   "cell_type": "code",
   "execution_count": null,
   "id": "4763ccff-4a82-40d7-8e6a-8b50c8d5f845",
   "metadata": {
    "pycharm": {
     "is_executing": true
    }
   },
   "outputs": [],
   "source": [
    "torch.save(model.state_dict(), 'embedding_model_with_zeros.pt')"
   ]
  },
  {
   "cell_type": "code",
   "execution_count": 18,
   "id": "fd7b56bd-8c72-4383-b853-6aa72c215f1c",
   "metadata": {},
   "outputs": [
    {
     "data": {
      "text/plain": [
       "AutoEncoder(\n",
       "  (encoder): SubstitutionEncoding(\n",
       "    (prot_encoder): BasicEncoding(\n",
       "      (fc1): Linear(in_features=1, out_features=2, bias=True)\n",
       "      (fc2): Linear(in_features=2, out_features=2, bias=True)\n",
       "      (activation): LeakyReLU(negative_slope=0.01)\n",
       "    )\n",
       "    (loc_encoder): BasicEncoding(\n",
       "      (fc1): Linear(in_features=1, out_features=2, bias=True)\n",
       "      (fc2): Linear(in_features=2, out_features=2, bias=True)\n",
       "      (activation): LeakyReLU(negative_slope=0.01)\n",
       "    )\n",
       "    (aa_encoder): BasicEncoding(\n",
       "      (fc1): Linear(in_features=1, out_features=2, bias=True)\n",
       "      (fc2): Linear(in_features=2, out_features=2, bias=True)\n",
       "      (activation): LeakyReLU(negative_slope=0.01)\n",
       "    )\n",
       "  )\n",
       "  (decoder): SubstitutionDecoding(\n",
       "    (prot_decoder): BasicDecoding(\n",
       "      (fc1): Linear(in_features=2, out_features=2, bias=True)\n",
       "      (fc2): Linear(in_features=2, out_features=1, bias=True)\n",
       "      (rl): LeakyReLU(negative_slope=0.01)\n",
       "      (sm): Softmax(dim=0)\n",
       "    )\n",
       "    (loc_decoder): BasicDecoding(\n",
       "      (fc1): Linear(in_features=2, out_features=2, bias=True)\n",
       "      (fc2): Linear(in_features=2, out_features=1, bias=True)\n",
       "      (rl): LeakyReLU(negative_slope=0.01)\n",
       "      (sm): Softmax(dim=0)\n",
       "    )\n",
       "    (aa_decoder): BasicDecoding(\n",
       "      (fc1): Linear(in_features=2, out_features=2, bias=True)\n",
       "      (fc2): Linear(in_features=2, out_features=1, bias=True)\n",
       "      (rl): LeakyReLU(negative_slope=0.01)\n",
       "      (sm): Softmax(dim=0)\n",
       "    )\n",
       "  )\n",
       ")"
      ]
     },
     "execution_count": 18,
     "metadata": {},
     "output_type": "execute_result"
    }
   ],
   "source": [
    "model2 = AutoEncoder(protdim=2, locdim=2, aadim=2)\n",
    "model2.load_state_dict(torch.load('embedding_model.pt'))\n",
    "model2.eval()"
   ]
  },
  {
   "cell_type": "code",
   "execution_count": 120,
   "id": "71404709-7d6f-458a-961b-50df1f39b52c",
   "metadata": {},
   "outputs": [
    {
     "data": {
      "text/plain": [
       "array(['NSP3_F1397L', 'NSP3_A488S', 'NSP3_P1469S', ..., 'NS3_Q57H',\n",
       "       'NS8_S24L', 'N_Q289H'], dtype='<U12')"
      ]
     },
     "execution_count": 120,
     "metadata": {},
     "output_type": "execute_result"
    }
   ],
   "source": [
    "substs = load_numpy('substs.npy')\n",
    "substs"
   ]
  },
  {
   "cell_type": "code",
   "execution_count": 24,
   "id": "776bf7f5-9d32-4ca4-b0e1-939e15e64c72",
   "metadata": {},
   "outputs": [
    {
     "ename": "NameError",
     "evalue": "name 'substs' is not defined",
     "output_type": "error",
     "traceback": [
      "\u001B[1;31m---------------------------------------------------------------------------\u001B[0m",
      "\u001B[1;31mNameError\u001B[0m                                 Traceback (most recent call last)",
      "\u001B[1;32mC:\\Temp/ipykernel_12800/461454713.py\u001B[0m in \u001B[0;36m<module>\u001B[1;34m\u001B[0m\n\u001B[0;32m      1\u001B[0m \u001B[0mi\u001B[0m \u001B[1;33m=\u001B[0m \u001B[1;36m10\u001B[0m\u001B[1;33m\u001B[0m\u001B[1;33m\u001B[0m\u001B[0m\n\u001B[1;32m----> 2\u001B[1;33m \u001B[0ms\u001B[0m \u001B[1;33m=\u001B[0m \u001B[0msubsts\u001B[0m\u001B[1;33m[\u001B[0m\u001B[0mi\u001B[0m\u001B[1;33m]\u001B[0m\u001B[1;33m\u001B[0m\u001B[1;33m\u001B[0m\u001B[0m\n\u001B[0m\u001B[0;32m      3\u001B[0m \u001B[0mprint\u001B[0m\u001B[1;33m(\u001B[0m\u001B[0ms\u001B[0m\u001B[1;33m)\u001B[0m\u001B[1;33m\u001B[0m\u001B[1;33m\u001B[0m\u001B[0m\n\u001B[0;32m      4\u001B[0m \u001B[0mprint\u001B[0m\u001B[1;33m(\u001B[0m\u001B[0mpre_encode\u001B[0m\u001B[1;33m(\u001B[0m\u001B[0ms\u001B[0m\u001B[1;33m,\u001B[0m \u001B[0mprot_le\u001B[0m\u001B[1;33m,\u001B[0m \u001B[0maa_le\u001B[0m\u001B[1;33m)\u001B[0m\u001B[1;33m)\u001B[0m\u001B[1;33m\u001B[0m\u001B[1;33m\u001B[0m\u001B[0m\n\u001B[0;32m      5\u001B[0m \u001B[0mprint\u001B[0m\u001B[1;33m(\u001B[0m\u001B[0mmodel\u001B[0m\u001B[1;33m(\u001B[0m\u001B[0mTensor\u001B[0m\u001B[1;33m(\u001B[0m\u001B[0mpre_encode\u001B[0m\u001B[1;33m(\u001B[0m\u001B[0ms\u001B[0m\u001B[1;33m,\u001B[0m \u001B[0mprot_le\u001B[0m\u001B[1;33m,\u001B[0m \u001B[0maa_le\u001B[0m\u001B[1;33m)\u001B[0m\u001B[1;33m)\u001B[0m\u001B[1;33m.\u001B[0m\u001B[0mreshape\u001B[0m\u001B[1;33m(\u001B[0m\u001B[1;36m1\u001B[0m\u001B[1;33m,\u001B[0m\u001B[1;36m3\u001B[0m\u001B[1;33m,\u001B[0m\u001B[1;36m1\u001B[0m\u001B[1;33m)\u001B[0m\u001B[1;33m)\u001B[0m\u001B[1;33m.\u001B[0m\u001B[0mround\u001B[0m\u001B[1;33m(\u001B[0m\u001B[1;33m)\u001B[0m\u001B[1;33m.\u001B[0m\u001B[0mreshape\u001B[0m\u001B[1;33m(\u001B[0m\u001B[1;36m1\u001B[0m\u001B[1;33m,\u001B[0m\u001B[1;36m3\u001B[0m\u001B[1;33m)\u001B[0m\u001B[1;33m)\u001B[0m\u001B[1;33m\u001B[0m\u001B[1;33m\u001B[0m\u001B[0m\n",
      "\u001B[1;31mNameError\u001B[0m: name 'substs' is not defined"
     ]
    }
   ],
   "source": [
    "i = 10\n",
    "s = substs[i]\n",
    "print(s)\n",
    "print(pre_encode(s, prot_le, aa_le))\n",
    "print(model(Tensor(pre_encode(s, prot_le, aa_le)).reshape(1,3,1)).round().reshape(1,3))"
   ]
  },
  {
   "cell_type": "code",
   "execution_count": 52,
   "id": "8613b035-1279-45d7-bfe1-99636d592634",
   "metadata": {},
   "outputs": [],
   "source": [
    "def autoencode(muts:np.array):\n",
    "    for i in tqdm(range(len(muts))):\n",
    "        muts[i] = pre_encode(muts[i], prot_le, aa_le)\n",
    "    return muts"
   ]
  },
  {
   "cell_type": "code",
   "execution_count": 53,
   "id": "5b615c9b-4dd1-4d4c-9c24-df63a5fa66ad",
   "metadata": {},
   "outputs": [
    {
     "name": "stderr",
     "output_type": "stream",
     "text": [
      "  0%|                                                                                           | 0/10 [00:00<?, ?it/s]\n"
     ]
    },
    {
     "ename": "ValueError",
     "evalue": "setting an array element with a sequence",
     "output_type": "error",
     "traceback": [
      "\u001B[1;31m---------------------------------------------------------------------------\u001B[0m",
      "\u001B[1;31mValueError\u001B[0m                                Traceback (most recent call last)",
      "\u001B[1;32mC:\\Temp/ipykernel_13452/4113603828.py\u001B[0m in \u001B[0;36m<module>\u001B[1;34m\u001B[0m\n\u001B[1;32m----> 1\u001B[1;33m \u001B[0mautoencode\u001B[0m\u001B[1;33m(\u001B[0m\u001B[0msubsts\u001B[0m\u001B[1;33m[\u001B[0m\u001B[1;33m:\u001B[0m\u001B[1;36m10\u001B[0m\u001B[1;33m]\u001B[0m\u001B[1;33m)\u001B[0m\u001B[1;33m\u001B[0m\u001B[1;33m\u001B[0m\u001B[0m\n\u001B[0m",
      "\u001B[1;32mC:\\Temp/ipykernel_13452/626856577.py\u001B[0m in \u001B[0;36mautoencode\u001B[1;34m(muts)\u001B[0m\n\u001B[0;32m      1\u001B[0m \u001B[1;32mdef\u001B[0m \u001B[0mautoencode\u001B[0m\u001B[1;33m(\u001B[0m\u001B[0mmuts\u001B[0m\u001B[1;33m:\u001B[0m\u001B[0mnp\u001B[0m\u001B[1;33m.\u001B[0m\u001B[0marray\u001B[0m\u001B[1;33m)\u001B[0m\u001B[1;33m:\u001B[0m\u001B[1;33m\u001B[0m\u001B[1;33m\u001B[0m\u001B[0m\n\u001B[0;32m      2\u001B[0m     \u001B[1;32mfor\u001B[0m \u001B[0mi\u001B[0m \u001B[1;32min\u001B[0m \u001B[0mtqdm\u001B[0m\u001B[1;33m(\u001B[0m\u001B[0mrange\u001B[0m\u001B[1;33m(\u001B[0m\u001B[0mlen\u001B[0m\u001B[1;33m(\u001B[0m\u001B[0mmuts\u001B[0m\u001B[1;33m)\u001B[0m\u001B[1;33m)\u001B[0m\u001B[1;33m)\u001B[0m\u001B[1;33m:\u001B[0m\u001B[1;33m\u001B[0m\u001B[1;33m\u001B[0m\u001B[0m\n\u001B[1;32m----> 3\u001B[1;33m         \u001B[0mmuts\u001B[0m\u001B[1;33m[\u001B[0m\u001B[0mi\u001B[0m\u001B[1;33m]\u001B[0m \u001B[1;33m=\u001B[0m \u001B[0mpre_encode\u001B[0m\u001B[1;33m(\u001B[0m\u001B[0mmuts\u001B[0m\u001B[1;33m[\u001B[0m\u001B[0mi\u001B[0m\u001B[1;33m]\u001B[0m\u001B[1;33m,\u001B[0m \u001B[0mprot_le\u001B[0m\u001B[1;33m,\u001B[0m \u001B[0maa_le\u001B[0m\u001B[1;33m)\u001B[0m\u001B[1;33m\u001B[0m\u001B[1;33m\u001B[0m\u001B[0m\n\u001B[0m\u001B[0;32m      4\u001B[0m     \u001B[1;32mreturn\u001B[0m \u001B[0mmuts\u001B[0m\u001B[1;33m\u001B[0m\u001B[1;33m\u001B[0m\u001B[0m\n",
      "\u001B[1;31mValueError\u001B[0m: setting an array element with a sequence"
     ]
    }
   ],
   "source": [
    "autoencode(substs[:10])"
   ]
  },
  {
   "cell_type": "code",
   "execution_count": 42,
   "id": "36518495-48dd-41de-8a61-628aaaf6328c",
   "metadata": {},
   "outputs": [
    {
     "data": {
      "text/plain": [
       "array([  16, 1397,    9])"
      ]
     },
     "execution_count": 42,
     "metadata": {},
     "output_type": "execute_result"
    }
   ],
   "source": [
    "pre_encode(s, prot_le, aa_le)"
   ]
  },
  {
   "cell_type": "code",
   "execution_count": 40,
   "id": "c3cd2a80-efd8-4083-80e4-05b72a2e7896",
   "metadata": {},
   "outputs": [
    {
     "data": {
      "text/plain": [
       "tensor([[[  16.0000],\n",
       "         [1396.9990],\n",
       "         [   8.9999]]], grad_fn=<ReshapeAliasBackward0>)"
      ]
     },
     "execution_count": 40,
     "metadata": {},
     "output_type": "execute_result"
    }
   ],
   "source": [
    "model(Tensor(pre_encode(s, prot_le, aa_le)).reshape(1,3,1))"
   ]
  },
  {
   "cell_type": "code",
   "execution_count": 13,
   "id": "1fc43655-23c7-4dfc-85a6-44e3d8892a13",
   "metadata": {},
   "outputs": [
    {
     "ename": "NameError",
     "evalue": "name 'batch' is not defined",
     "output_type": "error",
     "traceback": [
      "\u001B[1;31m---------------------------------------------------------------------------\u001B[0m",
      "\u001B[1;31mNameError\u001B[0m                                 Traceback (most recent call last)",
      "\u001B[1;32mC:\\Temp/ipykernel_13452/3259298662.py\u001B[0m in \u001B[0;36m<module>\u001B[1;34m\u001B[0m\n\u001B[1;32m----> 1\u001B[1;33m \u001B[0mInput\u001B[0m \u001B[1;33m=\u001B[0m \u001B[0mbatch\u001B[0m\u001B[1;33m[\u001B[0m\u001B[1;33m:\u001B[0m\u001B[1;36m80\u001B[0m\u001B[1;33m]\u001B[0m\u001B[1;33m\u001B[0m\u001B[1;33m\u001B[0m\u001B[0m\n\u001B[0m\u001B[0;32m      2\u001B[0m \u001B[1;31m# Input, model(Input).round()\u001B[0m\u001B[1;33m\u001B[0m\u001B[1;33m\u001B[0m\u001B[1;33m\u001B[0m\u001B[0m\n",
      "\u001B[1;31mNameError\u001B[0m: name 'batch' is not defined"
     ]
    }
   ],
   "source": [
    "Input = batch[:80]\n",
    "# Input, model(Input).round()"
   ]
  },
  {
   "cell_type": "code",
   "execution_count": 205,
   "id": "0ccf43ec-da9f-4b57-8b7c-9862246a70a7",
   "metadata": {},
   "outputs": [
    {
     "data": {
      "text/plain": [
       "tensor([[[  15.9987],\n",
       "         [1168.2126],\n",
       "         [  11.0000]],\n",
       "\n",
       "        [[   2.9984],\n",
       "         [ 112.9038],\n",
       "         [   4.0000]]], grad_fn=<ReshapeAliasBackward0>)"
      ]
     },
     "execution_count": 205,
     "metadata": {},
     "output_type": "execute_result"
    }
   ],
   "source": [
    "model(Input)"
   ]
  },
  {
   "cell_type": "code",
   "execution_count": 204,
   "id": "25428cf9-0f78-447f-83d2-39c2c9644906",
   "metadata": {},
   "outputs": [
    {
     "data": {
      "text/plain": [
       "tensor([[22.2205, -0.0578],\n",
       "        [ 4.2556,  4.5340]], grad_fn=<SliceBackward0>)"
      ]
     },
     "execution_count": 204,
     "metadata": {},
     "output_type": "execute_result"
    }
   ],
   "source": [
    "encoded = model.encoder(Input)[:,:2]\n",
    "encoded"
   ]
  },
  {
   "cell_type": "code",
   "execution_count": 194,
   "id": "68647598-b605-48b4-b00f-4d54f4cfd68e",
   "metadata": {},
   "outputs": [
    {
     "data": {
      "image/png": "[encoded data removed]",
      "text/plain": [
       "<Figure size 576x432 with 1 Axes>"
      ]
     },
     "metadata": {
      "needs_background": "light"
     },
     "output_type": "display_data"
    }
   ],
   "source": [
    "plt.figure(figsize=(8,6))\n",
    "plt.plot(np.arange(epoch+1), arr_loss)\n",
    "plt.title(f'epoch {epoch}');"
   ]
  },
  {
   "cell_type": "code",
   "execution_count": 15,
   "id": "e01a925d-46a5-4a3b-9aba-c923cd25c6e9",
   "metadata": {
    "tags": []
   },
   "outputs": [
    {
     "name": "stdout",
     "output_type": "stream",
     "text": [
      "epoch 10 \n",
      "loss 1.4898524568707217e-05\n"
     ]
    },
    {
     "data": {
      "image/png": "[encoded data removed]",
      "text/plain": [
       "<Figure size 576x432 with 1 Axes>"
      ]
     },
     "metadata": {
      "needs_background": "light"
     },
     "output_type": "display_data"
    }
   ],
   "source": [
    "n_epochs=10 +1\n",
    "batch_size= 1000\n",
    "arr_loss = []\n",
    "v_animate=1\n",
    "\n",
    "n_batches = len(data)//batch_size\n",
    "training_data = data[:batch_size*n_batches]\n",
    "training_data = Tensor(training_data.reshape((n_batches, batch_size, 3,1)))\n",
    "\n",
    "for epoch in range(n_epochs):\n",
    "    for batch in training_data:\n",
    "        \n",
    "        opt.zero_grad()\n",
    "\n",
    "        loss = mse_loss(model(batch),batch)\n",
    "\n",
    "        loss.backward()\n",
    "        opt.step()\n",
    "\n",
    "        #print(\"[Epoch %d/%d] [D loss: %f] [G loss: %f]\"% (epoch, n_epochs, d_loss.item(), g_loss.item()))\n",
    "        # plt.figure()\n",
    "        # plt.plot(arr_i, arr_g_loss, label='G_loss')\n",
    "        # plt.plot(arr_i, arr_d_loss, label='D_loss')\n",
    "        # plt.legend();\n",
    "    arr_loss.append(loss.item())\n",
    "    # clear_output(wait=True)\n",
    "    # print(f'epoch {epoch} \\nloss {loss.item()}')\n",
    "    if epoch % v_animate == 0:\n",
    "        clear_output(wait=True)\n",
    "        print(f'epoch {epoch} \\nloss {loss.item()}')\n",
    "        plt.figure(figsize=(8,6))\n",
    "        plt.plot(np.arange(epoch+1), arr_loss)\n",
    "        plt.title(f'epoch {epoch}')\n",
    "        plt.show()"
   ]
  },
  {
   "cell_type": "code",
   "execution_count": null,
   "id": "b7f80a34-c02c-475c-a0ae-410fab4677e6",
   "metadata": {},
   "outputs": [],
   "source": []
  },
  {
   "cell_type": "code",
   "execution_count": null,
   "id": "c6b72d42-b562-4cd1-a3d7-8644d40452ed",
   "metadata": {},
   "outputs": [],
   "source": []
  },
  {
   "cell_type": "code",
   "execution_count": 75,
   "id": "e0df2881-e4e9-4c43-b023-e1a6d01fe629",
   "metadata": {},
   "outputs": [
    {
     "data": {
      "text/plain": [
       "tensor([[ 3.],\n",
       "        [-1.],\n",
       "        [ 6.]], grad_fn=<ResizeBackward>)"
      ]
     },
     "execution_count": 75,
     "metadata": {},
     "output_type": "execute_result"
    }
   ],
   "source": [
    "model.forward(Tensor([1, 1000, 159]).reshape(3,1))"
   ]
  },
  {
   "cell_type": "code",
   "execution_count": 50,
   "id": "693f9a23-1383-441f-beab-473bd3542b7e",
   "metadata": {},
   "outputs": [
    {
     "data": {
      "text/plain": [
       "tensor([1.], grad_fn=<RoundBackward0>)"
      ]
     },
     "execution_count": 50,
     "metadata": {},
     "output_type": "execute_result"
    }
   ],
   "source": [
    "dec = BasicDecoding(indim=5, outdim=1)\n",
    "dec(Tensor([2.7163e-01,2.3010e-01, 3.9317e-01, 8.9747e-01, 8.9454e-01, ]))"
   ]
  },
  {
   "cell_type": "code",
   "execution_count": 52,
   "id": "d8db0f46-fb61-4648-8757-5e653c64b281",
   "metadata": {},
   "outputs": [
    {
     "data": {
      "text/plain": [
       "tensor([4.3248e-01, 4.6745e-01, 4.8443e-01, 6.4873e-01, 6.5034e-01, 1.6462e-01,\n",
       "        8.9973e-01, 7.4749e-01, 6.2651e-01, 6.1945e-01, 1.0000e+00, 9.5524e-34,\n",
       "        1.0000e+00, 0.0000e+00, 1.0000e+00], grad_fn=<CatBackward0>)"
      ]
     },
     "execution_count": 52,
     "metadata": {},
     "output_type": "execute_result"
    }
   ],
   "source": [
    "loc_enc = SubstitutionEncoding()\n",
    "tens= loc_enc.forward(Tensor([1, 2, 159]).reshape(3,1))\n",
    "tens"
   ]
  },
  {
   "cell_type": "code",
   "execution_count": 53,
   "id": "79540765-aaf9-4d44-8ea1-c33a0a5ac53a",
   "metadata": {},
   "outputs": [
    {
     "data": {
      "text/plain": [
       "tensor([[20.],\n",
       "        [ 1.],\n",
       "        [ 5.]], grad_fn=<ResizeBackward>)"
      ]
     },
     "execution_count": 53,
     "metadata": {},
     "output_type": "execute_result"
    }
   ],
   "source": [
    "loc_dec = SubstitutionDecoding()\n",
    "loc_dec(loc_enc.forward(Tensor([1, 2, 159]).reshape(3,1)))"
   ]
  },
  {
   "cell_type": "code",
   "execution_count": null,
   "id": "ba95604e-52bd-4a58-b465-fb18e013a2fa",
   "metadata": {},
   "outputs": [],
   "source": []
  },
  {
   "cell_type": "code",
   "execution_count": null,
   "id": "753512f4-123b-4801-ae2b-a6d774b438d6",
   "metadata": {},
   "outputs": [],
   "source": []
  },
  {
   "cell_type": "code",
   "execution_count": null,
   "id": "42aff10f-b62a-4129-9d4b-a080916d9f38",
   "metadata": {},
   "outputs": [],
   "source": []
  },
  {
   "cell_type": "code",
   "execution_count": null,
   "id": "d607b3d0-11e9-4489-bb88-bc0718b86ebc",
   "metadata": {},
   "outputs": [],
   "source": []
  },
  {
   "cell_type": "code",
   "execution_count": null,
   "id": "d2a12236-e64a-48b6-bfb9-1f0a8d6ea220",
   "metadata": {},
   "outputs": [],
   "source": []
  },
  {
   "cell_type": "code",
   "execution_count": null,
   "id": "f4eae5c8-a348-4234-aec7-546c6876d1dd",
   "metadata": {},
   "outputs": [],
   "source": []
  },
  {
   "cell_type": "code",
   "execution_count": null,
   "id": "34ade56d-941d-40ff-b1b0-a336e48114e3",
   "metadata": {},
   "outputs": [],
   "source": []
  },
  {
   "cell_type": "code",
   "execution_count": 28,
   "id": "ccd8f7db-3b8d-4357-950b-e6e5ecc5a544",
   "metadata": {},
   "outputs": [],
   "source": [
    "def pre_encode(s, prot_le_, aa_le_):\n",
    "    prot, subst = s.split('_')\n",
    "    return np.array([prot_le_[prot], int(subst[1:-1]), aa_le_[subst[-1]]])"
   ]
  },
  {
   "cell_type": "code",
   "execution_count": 33,
   "id": "2ba54c15-b444-42f6-b7ac-9d7c50063b12",
   "metadata": {},
   "outputs": [
    {
     "name": "stderr",
     "output_type": "stream",
     "text": [
      "100%|████████████████████████████████████████████████████████████████████████| 23429/23429 [00:00<00:00, 154155.13it/s]\n"
     ]
    }
   ],
   "source": [
    "data = []\n",
    "for elem in tqdm(a):\n",
    "    data.append(pre_encode(elem, prot_le_=prot_le, aa_le_=aa_le))\n",
    "data = np.array(data)"
   ]
  },
  {
   "cell_type": "code",
   "execution_count": 37,
   "id": "9e597e13-60c3-4041-a0fe-d40269a981d4",
   "metadata": {},
   "outputs": [],
   "source": [
    "with open('substs_preenc.npy', 'wb') as f:\n",
    "    np.save(f, data)\n",
    "    \n",
    "with open('substs_preenc.npy', 'rb') as f:\n",
    "    data = np.load(f)"
   ]
  },
  {
   "cell_type": "code",
   "execution_count": 38,
   "id": "fe88a62b-d180-4361-94e8-e6ed8ac303b0",
   "metadata": {},
   "outputs": [
    {
     "data": {
      "text/plain": [
       "23429"
      ]
     },
     "execution_count": 38,
     "metadata": {},
     "output_type": "execute_result"
    }
   ],
   "source": [
    "len(data)"
   ]
  },
  {
   "cell_type": "code",
   "execution_count": 26,
   "id": "cd526bcc-a880-47c9-8b39-938124a3b460",
   "metadata": {},
   "outputs": [
    {
     "data": {
      "text/plain": [
       "0    NSP3_F1397L,NSP3_A488S,NSP3_P1469S,NSP3_D410G,...\n",
       "1    NSP3_A488S,NSP3_P1469S,NSP3_P1228L,NSP4_A92V,N...\n",
       "2    NSP1_S135R,NSP3_G489S,NSP3_T24I,NSP4_L264F,NSP...\n",
       "3    NSP1_S135R,NSP3_G489S,NSP3_T24I,NSP4_L264F,NSP...\n",
       "4    NSP1_M85del,NSP1_H83del,NSP1_V84del,NSP1_V86de...\n",
       "Name: combineMuts, dtype: object"
      ]
     },
     "execution_count": 26,
     "metadata": {},
     "output_type": "execute_result"
    }
   ],
   "source": [
    "data = pd.read_csv('demo.csv')\n",
    "data = data['combineMuts']\n",
    "data.head()"
   ]
  },
  {
   "cell_type": "code",
   "execution_count": 184,
   "id": "3c4f5ade-436a-46a2-b0d1-94fc1cd6c043",
   "metadata": {},
   "outputs": [
    {
     "data": {
      "text/plain": [
       "'NSP1_M85del,NSP1_H83del,NSP1_V84del,NSP1_V86del,NSP1_G82del,NSP3_L1266I,NSP3_S1265del,NSP3_K38R,NSP3_A1892T,NSP3_V1069I,NSP4_T492I,NSP5_P132H,NSP6_G107del,NSP6_S106del,NSP6_L105del,NSP6_I189V,NSP12_P323L,NSP14_I42V,NSP16_I128V,Spike_N679K,Spike_Q493R,Spike_Y145del,Spike_G339D,Spike_G446S,Spike_P681H,Spike_D614G,Spike_N969K,Spike_N764K,Spike_T478K,Spike_H655Y,Spike_G496S,Spike_N856K,Spike_N440K,Spike_Y144del,Spike_N211del,Spike_ins214EPE,Spike_A67V,Spike_S371L,Spike_Q498R,Spike_K417N,Spike_T547K,Spike_L981F,Spike_S375F,Spike_Q954H,Spike_S477N,Spike_N501Y,Spike_T95I,Spike_A701V,Spike_G142D,Spike_Y505H,Spike_D796Y,Spike_V143del,Spike_V70del,Spike_S373P,Spike_L212I,Spike_E484A,Spike_H69del,E_T9I,M_A63T,M_D3G,M_Q19E,N_R32del,N_S33del,N_E31del,N_G204R,N_P13L,N_R203K,'"
      ]
     },
     "execution_count": 184,
     "metadata": {},
     "output_type": "execute_result"
    }
   ],
   "source": [
    "s"
   ]
  },
  {
   "cell_type": "code",
   "execution_count": 188,
   "id": "95e696ca-8655-45e1-b3c5-390afbd1df56",
   "metadata": {},
   "outputs": [
    {
     "data": {
      "text/plain": [
       "array(['NSP1_M85del', 'NSP1_H83del', 'NSP1_V84del', 'NSP1_V86del',\n",
       "       'NSP1_G82del', 'NSP3_L1266I', 'NSP3_S1265del', 'NSP3_K38R',\n",
       "       'NSP3_A1892T', 'NSP3_V1069I', 'NSP4_T492I', 'NSP5_P132H',\n",
       "       'NSP6_G107del', 'NSP6_S106del', 'NSP6_L105del', 'NSP6_I189V',\n",
       "       'NSP12_P323L', 'NSP14_I42V', 'NSP16_I128V', 'Spike_N679K',\n",
       "       'Spike_Q493R', 'Spike_Y145del', 'Spike_G339D', 'Spike_G446S',\n",
       "       'Spike_P681H', 'Spike_D614G', 'Spike_N969K', 'Spike_N764K',\n",
       "       'Spike_T478K', 'Spike_H655Y', 'Spike_G496S', 'Spike_N856K',\n",
       "       'Spike_N440K', 'Spike_Y144del', 'Spike_N211del', 'Spike_ins214EPE',\n",
       "       'Spike_A67V', 'Spike_S371L', 'Spike_Q498R', 'Spike_K417N',\n",
       "       'Spike_T547K', 'Spike_L981F', 'Spike_S375F', 'Spike_Q954H',\n",
       "       'Spike_S477N', 'Spike_N501Y', 'Spike_T95I', 'Spike_A701V',\n",
       "       'Spike_G142D', 'Spike_Y505H', 'Spike_D796Y', 'Spike_V143del',\n",
       "       'Spike_V70del', 'Spike_S373P', 'Spike_L212I', 'Spike_E484A',\n",
       "       'Spike_H69del', 'E_T9I', 'M_A63T', 'M_D3G', 'M_Q19E', 'N_R32del',\n",
       "       'N_S33del', 'N_E31del', 'N_G204R', 'N_P13L', 'N_R203K', ''],\n",
       "      dtype='<U15')"
      ]
     },
     "execution_count": 188,
     "metadata": {},
     "output_type": "execute_result"
    }
   ],
   "source": [
    "s_arr = np.array(s.split(','))\n",
    "s_arr"
   ]
  },
  {
   "cell_type": "code",
   "execution_count": 27,
   "id": "3e71f4ca-a880-4ab9-8121-25f94c848739",
   "metadata": {},
   "outputs": [
    {
     "data": {
      "text/plain": [
       "['1397']"
      ]
     },
     "execution_count": 27,
     "metadata": {},
     "output_type": "execute_result"
    }
   ],
   "source": [
    "re.findall(r'\\d+','F1397L')"
   ]
  },
  {
   "cell_type": "code",
   "execution_count": 198,
   "id": "1abeb0b6-6ef6-478c-beff-2cdc4e81ac2e",
   "metadata": {},
   "outputs": [],
   "source": [
    "def is_subst(s):\n",
    "    if 'ins' not in s and 'del' not in s:\n",
    "        return True\n",
    "    return False"
   ]
  },
  {
   "cell_type": "code",
   "execution_count": 200,
   "id": "acbeec2d-0efc-4ddb-b761-71f562a62377",
   "metadata": {
    "tags": []
   },
   "outputs": [],
   "source": [
    "substs = []\n",
    "for i in range(len(data)):\n",
    "    arr= data[i].split(',')\n",
    "    for j in range(len(arr)-1):\n",
    "        if is_subst(arr[j]):\n",
    "            substs.append(arr[j])"
   ]
  },
  {
   "cell_type": "code",
   "execution_count": 215,
   "id": "5a2c1575-8aab-47ca-b30e-b978e9048390",
   "metadata": {},
   "outputs": [],
   "source": [
    "def check_substs(s):\n",
    "    a,b = s.split('_')\n",
    "    if a in proteins and b[0] in amino_acids and b[-1] in amino_acids and b[1:-1].isdigit():\n",
    "        return True\n",
    "    return False"
   ]
  },
  {
   "cell_type": "code",
   "execution_count": null,
   "id": "df46fb37-b4ee-4834-945b-c130c6660a97",
   "metadata": {},
   "outputs": [],
   "source": [
    "for i in "
   ]
  },
  {
   "cell_type": "code",
   "execution_count": 225,
   "id": "7260bfde-2b71-4d26-8503-8f31375298bc",
   "metadata": {},
   "outputs": [],
   "source": [
    "a,b = 'M_Q19Z'.split('_')\n",
    "if b[-1] in amino_acids:# and b[1:-1].isdigit():\n",
    "    print('YES')"
   ]
  },
  {
   "cell_type": "code",
   "execution_count": 230,
   "id": "9668d5e1-4f2a-4fcc-8107-b12570043668",
   "metadata": {},
   "outputs": [
    {
     "data": {
      "text/plain": [
       "['A',\n",
       " 'C',\n",
       " 'D',\n",
       " 'E',\n",
       " 'F',\n",
       " 'G',\n",
       " 'H',\n",
       " 'I',\n",
       " 'K',\n",
       " 'L',\n",
       " 'M',\n",
       " 'N',\n",
       " 'P',\n",
       " 'Q',\n",
       " 'R',\n",
       " 'S',\n",
       " 'T',\n",
       " 'V',\n",
       " 'W',\n",
       " 'Y']"
      ]
     },
     "execution_count": 230,
     "metadata": {},
     "output_type": "execute_result"
    }
   ],
   "source": [
    "amino_acids"
   ]
  },
  {
   "cell_type": "code",
   "execution_count": 233,
   "id": "cb90ca68-2ee6-4129-829a-b143ba0cafec",
   "metadata": {},
   "outputs": [],
   "source": [
    "substs_ = []\n",
    "for i in substs:\n",
    "    if check_substs(i):\n",
    "        substs_.append(i)"
   ]
  },
  {
   "cell_type": "code",
   "execution_count": null,
   "id": "acd09a8c-1f5f-43f5-986e-1aa137fbdad7",
   "metadata": {},
   "outputs": [],
   "source": [
    "len(substs)"
   ]
  },
  {
   "cell_type": "code",
   "execution_count": 189,
   "id": "c2326834-eeb3-43e4-97b8-7a7f1f4f9c50",
   "metadata": {},
   "outputs": [
    {
     "data": {
      "text/plain": [
       "True"
      ]
     },
     "execution_count": 189,
     "metadata": {},
     "output_type": "execute_result"
    }
   ],
   "source": [
    "'ins' not in s_arr"
   ]
  },
  {
   "cell_type": "code",
   "execution_count": 234,
   "id": "9f2ac6d4-cb51-4124-9958-063dceb8579d",
   "metadata": {},
   "outputs": [],
   "source": [
    "with open('substs.npy', 'wb') as f:\n",
    "\n",
    "    np.save(f, np.array(substs_))"
   ]
  },
  {
   "cell_type": "code",
   "execution_count": 26,
   "id": "7dbe98db-3a65-46f2-929d-653a0ef6f2d6",
   "metadata": {},
   "outputs": [
    {
     "ename": "NameError",
     "evalue": "name 's' is not defined",
     "output_type": "error",
     "traceback": [
      "\u001B[1;31m---------------------------------------------------------------------------\u001B[0m",
      "\u001B[1;31mNameError\u001B[0m                                 Traceback (most recent call last)",
      "\u001B[1;32mC:\\Temp/ipykernel_1660/663226490.py\u001B[0m in \u001B[0;36m<module>\u001B[1;34m\u001B[0m\n\u001B[0;32m      1\u001B[0m \u001B[1;32mimport\u001B[0m \u001B[0mre\u001B[0m\u001B[1;33m\u001B[0m\u001B[1;33m\u001B[0m\u001B[0m\n\u001B[1;32m----> 2\u001B[1;33m \u001B[0mre\u001B[0m\u001B[1;33m.\u001B[0m\u001B[0mfindall\u001B[0m\u001B[1;33m(\u001B[0m\u001B[1;34mr'\\d+'\u001B[0m\u001B[1;33m,\u001B[0m\u001B[1;34m''\u001B[0m\u001B[1;33m.\u001B[0m\u001B[0mjoin\u001B[0m\u001B[1;33m(\u001B[0m\u001B[0mre\u001B[0m\u001B[1;33m.\u001B[0m\u001B[0mfindall\u001B[0m\u001B[1;33m(\u001B[0m\u001B[1;34mf'_\\w\\d+\\w'\u001B[0m\u001B[1;33m,\u001B[0m \u001B[0ms\u001B[0m\u001B[1;33m)\u001B[0m\u001B[1;33m)\u001B[0m\u001B[1;33m)\u001B[0m\u001B[1;33m\u001B[0m\u001B[1;33m\u001B[0m\u001B[0m\n\u001B[0m",
      "\u001B[1;31mNameError\u001B[0m: name 's' is not defined"
     ]
    }
   ],
   "source": [
    "import re\n",
    "re.findall(r'\\d+',''.join(re.findall(f'_\\w\\d+\\w', s)))"
   ]
  },
  {
   "cell_type": "code",
   "execution_count": 178,
   "id": "6f353129-5b6c-43a7-abf4-2fad663eedf9",
   "metadata": {},
   "outputs": [
    {
     "data": {
      "text/plain": [
       "'_S135R_G489S_T24I_L264F_L438F_T327I_T492I_P132H_F108d_G107d_S106d_P323L_R392C_I42V_T112I_V213G_N679K_T376A_Q493R_D405N_G339D_R408S_T19I_P681H_D614G_N969K_N764K_T478K_H655Y_P26d_N440K_Q498R_K417N_S371F_A27S_S375F_Q954H_L24d_S477N_N501Y_G142D_Y505H_D796Y_P25d_S373P_E484A_T223I_T9I_A63T_Q19E_R32d_S413R_S33d_E31d_G204R_P13L_R203K'"
      ]
     },
     "execution_count": 178,
     "metadata": {},
     "output_type": "execute_result"
    }
   ],
   "source": [
    "''.join(re.findall(f'_\\w\\d+\\w', s))"
   ]
  },
  {
   "cell_type": "code",
   "execution_count": 59,
   "id": "79911f18-4ab8-4107-86fb-fee3ed430117",
   "metadata": {},
   "outputs": [],
   "source": [
    "aa = set()\n",
    "for i in range(10000):\n",
    "    s = data[i]\n",
    "    for elem in (re.findall(fr'_\\w\\d+', s)):\n",
    "        aa.add(elem[1])"
   ]
  },
  {
   "cell_type": "code",
   "execution_count": 62,
   "id": "8381d658-d135-466d-a0a4-67e564504416",
   "metadata": {},
   "outputs": [
    {
     "name": "stdout",
     "output_type": "stream",
     "text": [
      "['A', 'H', 'N', 'S', 'T', 'E', 'L', 'K', 'P', 'I', 'R', 'M', 'D', 'V', 'G', 'W', 'Y', 'Q', 'F', 'C']\n"
     ]
    }
   ],
   "source": [
    "print(list(aa))"
   ]
  },
  {
   "cell_type": "code",
   "execution_count": 53,
   "id": "04e6f527-94a0-4571-8822-f01011d7ce16",
   "metadata": {},
   "outputs": [
    {
     "data": {
      "text/plain": [
       "['_F1397',\n",
       " '_A488',\n",
       " '_P1469',\n",
       " '_D410',\n",
       " '_P1228',\n",
       " '_V167',\n",
       " '_T492',\n",
       " '_T77',\n",
       " '_C197',\n",
       " '_P323',\n",
       " '_G671',\n",
       " '_P77',\n",
       " '_A394',\n",
       " '_T19',\n",
       " '_P681',\n",
       " '_D614',\n",
       " '_D950',\n",
       " '_T478',\n",
       " '_L452',\n",
       " '_F157',\n",
       " '_R158',\n",
       " '_E156',\n",
       " '_E239',\n",
       " '_S26',\n",
       " '_I82',\n",
       " '_V82',\n",
       " '_T120',\n",
       " '_T40',\n",
       " '_G215',\n",
       " '_D377',\n",
       " '_D63',\n",
       " '_R203',\n",
       " '_T1160']"
      ]
     },
     "execution_count": 53,
     "metadata": {},
     "output_type": "execute_result"
    }
   ],
   "source": [
    "(re.findall(fr'_\\w\\d+', s))"
   ]
  },
  {
   "cell_type": "code",
   "execution_count": null,
   "id": "5d882ec9-7cdf-43c9-add3-33aad73b38bf",
   "metadata": {},
   "outputs": [],
   "source": []
  }
 ],
 "metadata": {
  "kernelspec": {
   "display_name": "Python 3 (ipykernel)",
   "language": "python",
   "name": "python3"
  },
  "language_info": {
   "codemirror_mode": {
    "name": "ipython",
    "version": 3
   },
   "file_extension": ".py",
   "mimetype": "text/x-python",
   "name": "python",
   "nbconvert_exporter": "python",
   "pygments_lexer": "ipython3",
   "version": "3.10.4"
  }
 },
 "nbformat": 4,
 "nbformat_minor": 5
}
